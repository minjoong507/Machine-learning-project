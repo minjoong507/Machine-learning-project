{
 "cells": [
  {
   "cell_type": "code",
   "execution_count": 2,
   "metadata": {
    "colab": {},
    "colab_type": "code",
    "id": "1sV_q9Ct6ZH3"
   },
   "outputs": [],
   "source": [
    "import numpy as np\n",
    "import pandas as pd\n",
    "from matplotlib import pyplot as plt\n",
    "import math\n",
    "from matplotlib import cm"
   ]
  },
  {
   "cell_type": "markdown",
   "metadata": {
    "colab_type": "text",
    "id": "Lj7OscVaxvif"
   },
   "source": [
    "- 먼저 데이터를 불러오겠습니다."
   ]
  },
  {
   "cell_type": "code",
   "execution_count": 3,
   "metadata": {
    "colab": {},
    "colab_type": "code",
    "id": "woaNbADj6ZH_"
   },
   "outputs": [],
   "source": [
    "data = pd.read_csv(\"training.txt\", names=['x','y','label'])"
   ]
  },
  {
   "cell_type": "code",
   "execution_count": 4,
   "metadata": {
    "colab": {
     "base_uri": "https://localhost:8080/",
     "height": 402
    },
    "colab_type": "code",
    "id": "qEdYv9Ts6ZIG",
    "outputId": "b2be4c6b-f791-487f-f8b0-5896673f4ee2"
   },
   "outputs": [
    {
     "data": {
      "text/html": [
       "<div>\n",
       "<style scoped>\n",
       "    .dataframe tbody tr th:only-of-type {\n",
       "        vertical-align: middle;\n",
       "    }\n",
       "\n",
       "    .dataframe tbody tr th {\n",
       "        vertical-align: top;\n",
       "    }\n",
       "\n",
       "    .dataframe thead th {\n",
       "        text-align: right;\n",
       "    }\n",
       "</style>\n",
       "<table border=\"1\" class=\"dataframe\">\n",
       "  <thead>\n",
       "    <tr style=\"text-align: right;\">\n",
       "      <th></th>\n",
       "      <th>x</th>\n",
       "      <th>y</th>\n",
       "      <th>label</th>\n",
       "    </tr>\n",
       "  </thead>\n",
       "  <tbody>\n",
       "    <tr>\n",
       "      <th>0</th>\n",
       "      <td>0.76090</td>\n",
       "      <td>0.116706</td>\n",
       "      <td>0.0</td>\n",
       "    </tr>\n",
       "    <tr>\n",
       "      <th>1</th>\n",
       "      <td>0.99777</td>\n",
       "      <td>0.082345</td>\n",
       "      <td>0.0</td>\n",
       "    </tr>\n",
       "    <tr>\n",
       "      <th>2</th>\n",
       "      <td>1.02459</td>\n",
       "      <td>0.291094</td>\n",
       "      <td>0.0</td>\n",
       "    </tr>\n",
       "    <tr>\n",
       "      <th>3</th>\n",
       "      <td>1.07755</td>\n",
       "      <td>0.091764</td>\n",
       "      <td>0.0</td>\n",
       "    </tr>\n",
       "    <tr>\n",
       "      <th>4</th>\n",
       "      <td>0.91385</td>\n",
       "      <td>0.054629</td>\n",
       "      <td>0.0</td>\n",
       "    </tr>\n",
       "    <tr>\n",
       "      <th>...</th>\n",
       "      <td>...</td>\n",
       "      <td>...</td>\n",
       "      <td>...</td>\n",
       "    </tr>\n",
       "    <tr>\n",
       "      <th>195</th>\n",
       "      <td>1.00000</td>\n",
       "      <td>1.000000</td>\n",
       "      <td>1.0</td>\n",
       "    </tr>\n",
       "    <tr>\n",
       "      <th>196</th>\n",
       "      <td>1.00000</td>\n",
       "      <td>1.000000</td>\n",
       "      <td>1.0</td>\n",
       "    </tr>\n",
       "    <tr>\n",
       "      <th>197</th>\n",
       "      <td>1.00000</td>\n",
       "      <td>1.000000</td>\n",
       "      <td>1.0</td>\n",
       "    </tr>\n",
       "    <tr>\n",
       "      <th>198</th>\n",
       "      <td>1.00000</td>\n",
       "      <td>1.000000</td>\n",
       "      <td>1.0</td>\n",
       "    </tr>\n",
       "    <tr>\n",
       "      <th>199</th>\n",
       "      <td>1.00000</td>\n",
       "      <td>1.000000</td>\n",
       "      <td>1.0</td>\n",
       "    </tr>\n",
       "  </tbody>\n",
       "</table>\n",
       "<p>200 rows × 3 columns</p>\n",
       "</div>"
      ],
      "text/plain": [
       "           x         y  label\n",
       "0    0.76090  0.116706    0.0\n",
       "1    0.99777  0.082345    0.0\n",
       "2    1.02459  0.291094    0.0\n",
       "3    1.07755  0.091764    0.0\n",
       "4    0.91385  0.054629    0.0\n",
       "..       ...       ...    ...\n",
       "195  1.00000  1.000000    1.0\n",
       "196  1.00000  1.000000    1.0\n",
       "197  1.00000  1.000000    1.0\n",
       "198  1.00000  1.000000    1.0\n",
       "199  1.00000  1.000000    1.0\n",
       "\n",
       "[200 rows x 3 columns]"
      ]
     },
     "execution_count": 4,
     "metadata": {},
     "output_type": "execute_result"
    }
   ],
   "source": [
    "data"
   ]
  },
  {
   "cell_type": "markdown",
   "metadata": {
    "colab_type": "text",
    "id": "WhxOTEIG6ZIM"
   },
   "source": [
    "- 라벨값을 저장하고 $g(x,y,\\theta)$ 함수를 정의하겠습니다."
   ]
  },
  {
   "cell_type": "code",
   "execution_count": 5,
   "metadata": {
    "colab": {},
    "colab_type": "code",
    "id": "a_-WZ90qdhJ0"
   },
   "outputs": [],
   "source": [
    "data_1 = data[data['label'] == 1]\n",
    "dataX_1 = data_1['x']\n",
    "dataY_1 = data_1['y']\n",
    "\n",
    "data_0 = data[data['label'] == 0]\n",
    "dataX_0 = data_0['x']\n",
    "dataY_0 = data_0['y']"
   ]
  },
  {
   "cell_type": "code",
   "execution_count": 6,
   "metadata": {
    "colab": {},
    "colab_type": "code",
    "id": "9ucb8jJW6ZIN"
   },
   "outputs": [],
   "source": [
    "label = data['label']"
   ]
  },
  {
   "cell_type": "code",
   "execution_count": 11,
   "metadata": {
    "colab": {},
    "colab_type": "code",
    "id": "5JCkP_xa6ZIS"
   },
   "outputs": [],
   "source": [
    "new_data = pd.DataFrame()\n",
    "for i in range(10):\n",
    "    for j in range(10):\n",
    "        name = \"x\" + str(i) + \"y\" + str(j)\n",
    "        new_data[name] = data['x'] ** i * data['y'] ** j"
   ]
  },
  {
   "cell_type": "markdown",
   "metadata": {
    "colab_type": "text",
    "id": "QC3fWs6w6ZIX"
   },
   "source": [
    "- $x,y$를 순서대로 곱하여 다음과 같은 데이터를 만들었습니다. $x^0y^0$은 상수항이기에 데이터에서 제외하고 따로 관리하여 계산하겠습니다."
   ]
  },
  {
   "cell_type": "code",
   "execution_count": 12,
   "metadata": {
    "colab": {
     "base_uri": "https://localhost:8080/",
     "height": 590
    },
    "colab_type": "code",
    "id": "fA96ooVu6ZIY",
    "outputId": "4f1e226a-bf68-4228-a432-7e595b08a311"
   },
   "outputs": [
    {
     "data": {
      "text/html": [
       "<div>\n",
       "<style scoped>\n",
       "    .dataframe tbody tr th:only-of-type {\n",
       "        vertical-align: middle;\n",
       "    }\n",
       "\n",
       "    .dataframe tbody tr th {\n",
       "        vertical-align: top;\n",
       "    }\n",
       "\n",
       "    .dataframe thead th {\n",
       "        text-align: right;\n",
       "    }\n",
       "</style>\n",
       "<table border=\"1\" class=\"dataframe\">\n",
       "  <thead>\n",
       "    <tr style=\"text-align: right;\">\n",
       "      <th></th>\n",
       "      <th>x0y1</th>\n",
       "      <th>x0y2</th>\n",
       "      <th>x0y3</th>\n",
       "      <th>x0y4</th>\n",
       "      <th>x0y5</th>\n",
       "      <th>x0y6</th>\n",
       "      <th>x0y7</th>\n",
       "      <th>x0y8</th>\n",
       "      <th>x0y9</th>\n",
       "      <th>x1y0</th>\n",
       "      <th>...</th>\n",
       "      <th>x9y0</th>\n",
       "      <th>x9y1</th>\n",
       "      <th>x9y2</th>\n",
       "      <th>x9y3</th>\n",
       "      <th>x9y4</th>\n",
       "      <th>x9y5</th>\n",
       "      <th>x9y6</th>\n",
       "      <th>x9y7</th>\n",
       "      <th>x9y8</th>\n",
       "      <th>x9y9</th>\n",
       "    </tr>\n",
       "  </thead>\n",
       "  <tbody>\n",
       "    <tr>\n",
       "      <th>0</th>\n",
       "      <td>0.116706</td>\n",
       "      <td>0.013620</td>\n",
       "      <td>0.001590</td>\n",
       "      <td>0.000186</td>\n",
       "      <td>2.165069e-05</td>\n",
       "      <td>2.526773e-06</td>\n",
       "      <td>2.948903e-07</td>\n",
       "      <td>3.441556e-08</td>\n",
       "      <td>4.016514e-09</td>\n",
       "      <td>0.76090</td>\n",
       "      <td>...</td>\n",
       "      <td>0.085496</td>\n",
       "      <td>0.009978</td>\n",
       "      <td>0.001164</td>\n",
       "      <td>0.000136</td>\n",
       "      <td>0.000016</td>\n",
       "      <td>1.851058e-06</td>\n",
       "      <td>2.160302e-07</td>\n",
       "      <td>2.521209e-08</td>\n",
       "      <td>2.942410e-09</td>\n",
       "      <td>3.433978e-10</td>\n",
       "    </tr>\n",
       "    <tr>\n",
       "      <th>1</th>\n",
       "      <td>0.082345</td>\n",
       "      <td>0.006781</td>\n",
       "      <td>0.000558</td>\n",
       "      <td>0.000046</td>\n",
       "      <td>3.785956e-06</td>\n",
       "      <td>3.117530e-07</td>\n",
       "      <td>2.567118e-08</td>\n",
       "      <td>2.113883e-09</td>\n",
       "      <td>1.740668e-10</td>\n",
       "      <td>0.99777</td>\n",
       "      <td>...</td>\n",
       "      <td>0.980108</td>\n",
       "      <td>0.080707</td>\n",
       "      <td>0.006646</td>\n",
       "      <td>0.000547</td>\n",
       "      <td>0.000045</td>\n",
       "      <td>3.710646e-06</td>\n",
       "      <td>3.055516e-07</td>\n",
       "      <td>2.516053e-08</td>\n",
       "      <td>2.071833e-09</td>\n",
       "      <td>1.706043e-10</td>\n",
       "    </tr>\n",
       "    <tr>\n",
       "      <th>2</th>\n",
       "      <td>0.291094</td>\n",
       "      <td>0.084736</td>\n",
       "      <td>0.024666</td>\n",
       "      <td>0.007180</td>\n",
       "      <td>2.090092e-03</td>\n",
       "      <td>6.084129e-04</td>\n",
       "      <td>1.771053e-04</td>\n",
       "      <td>5.155426e-05</td>\n",
       "      <td>1.500713e-05</td>\n",
       "      <td>1.02459</td>\n",
       "      <td>...</td>\n",
       "      <td>1.244374</td>\n",
       "      <td>0.362230</td>\n",
       "      <td>0.105443</td>\n",
       "      <td>0.030694</td>\n",
       "      <td>0.008935</td>\n",
       "      <td>2.600856e-03</td>\n",
       "      <td>7.570933e-04</td>\n",
       "      <td>2.203852e-04</td>\n",
       "      <td>6.415279e-05</td>\n",
       "      <td>1.867449e-05</td>\n",
       "    </tr>\n",
       "    <tr>\n",
       "      <th>3</th>\n",
       "      <td>0.091764</td>\n",
       "      <td>0.008421</td>\n",
       "      <td>0.000773</td>\n",
       "      <td>0.000071</td>\n",
       "      <td>6.506846e-06</td>\n",
       "      <td>5.970966e-07</td>\n",
       "      <td>5.479219e-08</td>\n",
       "      <td>5.027971e-09</td>\n",
       "      <td>4.613886e-10</td>\n",
       "      <td>1.07755</td>\n",
       "      <td>...</td>\n",
       "      <td>1.958560</td>\n",
       "      <td>0.179726</td>\n",
       "      <td>0.016492</td>\n",
       "      <td>0.001513</td>\n",
       "      <td>0.000139</td>\n",
       "      <td>1.274405e-05</td>\n",
       "      <td>1.169450e-06</td>\n",
       "      <td>1.073138e-07</td>\n",
       "      <td>9.847584e-09</td>\n",
       "      <td>9.036573e-10</td>\n",
       "    </tr>\n",
       "    <tr>\n",
       "      <th>4</th>\n",
       "      <td>0.054629</td>\n",
       "      <td>0.002984</td>\n",
       "      <td>0.000163</td>\n",
       "      <td>0.000009</td>\n",
       "      <td>4.865555e-07</td>\n",
       "      <td>2.658024e-08</td>\n",
       "      <td>1.452063e-09</td>\n",
       "      <td>7.932531e-11</td>\n",
       "      <td>4.333495e-12</td>\n",
       "      <td>0.91385</td>\n",
       "      <td>...</td>\n",
       "      <td>0.444503</td>\n",
       "      <td>0.024283</td>\n",
       "      <td>0.001327</td>\n",
       "      <td>0.000072</td>\n",
       "      <td>0.000004</td>\n",
       "      <td>2.162751e-07</td>\n",
       "      <td>1.181498e-08</td>\n",
       "      <td>6.454455e-10</td>\n",
       "      <td>3.526030e-11</td>\n",
       "      <td>1.926249e-12</td>\n",
       "    </tr>\n",
       "    <tr>\n",
       "      <th>...</th>\n",
       "      <td>...</td>\n",
       "      <td>...</td>\n",
       "      <td>...</td>\n",
       "      <td>...</td>\n",
       "      <td>...</td>\n",
       "      <td>...</td>\n",
       "      <td>...</td>\n",
       "      <td>...</td>\n",
       "      <td>...</td>\n",
       "      <td>...</td>\n",
       "      <td>...</td>\n",
       "      <td>...</td>\n",
       "      <td>...</td>\n",
       "      <td>...</td>\n",
       "      <td>...</td>\n",
       "      <td>...</td>\n",
       "      <td>...</td>\n",
       "      <td>...</td>\n",
       "      <td>...</td>\n",
       "      <td>...</td>\n",
       "      <td>...</td>\n",
       "    </tr>\n",
       "    <tr>\n",
       "      <th>195</th>\n",
       "      <td>1.000000</td>\n",
       "      <td>1.000000</td>\n",
       "      <td>1.000000</td>\n",
       "      <td>1.000000</td>\n",
       "      <td>1.000000e+00</td>\n",
       "      <td>1.000000e+00</td>\n",
       "      <td>1.000000e+00</td>\n",
       "      <td>1.000000e+00</td>\n",
       "      <td>1.000000e+00</td>\n",
       "      <td>1.00000</td>\n",
       "      <td>...</td>\n",
       "      <td>1.000000</td>\n",
       "      <td>1.000000</td>\n",
       "      <td>1.000000</td>\n",
       "      <td>1.000000</td>\n",
       "      <td>1.000000</td>\n",
       "      <td>1.000000e+00</td>\n",
       "      <td>1.000000e+00</td>\n",
       "      <td>1.000000e+00</td>\n",
       "      <td>1.000000e+00</td>\n",
       "      <td>1.000000e+00</td>\n",
       "    </tr>\n",
       "    <tr>\n",
       "      <th>196</th>\n",
       "      <td>1.000000</td>\n",
       "      <td>1.000000</td>\n",
       "      <td>1.000000</td>\n",
       "      <td>1.000000</td>\n",
       "      <td>1.000000e+00</td>\n",
       "      <td>1.000000e+00</td>\n",
       "      <td>1.000000e+00</td>\n",
       "      <td>1.000000e+00</td>\n",
       "      <td>1.000000e+00</td>\n",
       "      <td>1.00000</td>\n",
       "      <td>...</td>\n",
       "      <td>1.000000</td>\n",
       "      <td>1.000000</td>\n",
       "      <td>1.000000</td>\n",
       "      <td>1.000000</td>\n",
       "      <td>1.000000</td>\n",
       "      <td>1.000000e+00</td>\n",
       "      <td>1.000000e+00</td>\n",
       "      <td>1.000000e+00</td>\n",
       "      <td>1.000000e+00</td>\n",
       "      <td>1.000000e+00</td>\n",
       "    </tr>\n",
       "    <tr>\n",
       "      <th>197</th>\n",
       "      <td>1.000000</td>\n",
       "      <td>1.000000</td>\n",
       "      <td>1.000000</td>\n",
       "      <td>1.000000</td>\n",
       "      <td>1.000000e+00</td>\n",
       "      <td>1.000000e+00</td>\n",
       "      <td>1.000000e+00</td>\n",
       "      <td>1.000000e+00</td>\n",
       "      <td>1.000000e+00</td>\n",
       "      <td>1.00000</td>\n",
       "      <td>...</td>\n",
       "      <td>1.000000</td>\n",
       "      <td>1.000000</td>\n",
       "      <td>1.000000</td>\n",
       "      <td>1.000000</td>\n",
       "      <td>1.000000</td>\n",
       "      <td>1.000000e+00</td>\n",
       "      <td>1.000000e+00</td>\n",
       "      <td>1.000000e+00</td>\n",
       "      <td>1.000000e+00</td>\n",
       "      <td>1.000000e+00</td>\n",
       "    </tr>\n",
       "    <tr>\n",
       "      <th>198</th>\n",
       "      <td>1.000000</td>\n",
       "      <td>1.000000</td>\n",
       "      <td>1.000000</td>\n",
       "      <td>1.000000</td>\n",
       "      <td>1.000000e+00</td>\n",
       "      <td>1.000000e+00</td>\n",
       "      <td>1.000000e+00</td>\n",
       "      <td>1.000000e+00</td>\n",
       "      <td>1.000000e+00</td>\n",
       "      <td>1.00000</td>\n",
       "      <td>...</td>\n",
       "      <td>1.000000</td>\n",
       "      <td>1.000000</td>\n",
       "      <td>1.000000</td>\n",
       "      <td>1.000000</td>\n",
       "      <td>1.000000</td>\n",
       "      <td>1.000000e+00</td>\n",
       "      <td>1.000000e+00</td>\n",
       "      <td>1.000000e+00</td>\n",
       "      <td>1.000000e+00</td>\n",
       "      <td>1.000000e+00</td>\n",
       "    </tr>\n",
       "    <tr>\n",
       "      <th>199</th>\n",
       "      <td>1.000000</td>\n",
       "      <td>1.000000</td>\n",
       "      <td>1.000000</td>\n",
       "      <td>1.000000</td>\n",
       "      <td>1.000000e+00</td>\n",
       "      <td>1.000000e+00</td>\n",
       "      <td>1.000000e+00</td>\n",
       "      <td>1.000000e+00</td>\n",
       "      <td>1.000000e+00</td>\n",
       "      <td>1.00000</td>\n",
       "      <td>...</td>\n",
       "      <td>1.000000</td>\n",
       "      <td>1.000000</td>\n",
       "      <td>1.000000</td>\n",
       "      <td>1.000000</td>\n",
       "      <td>1.000000</td>\n",
       "      <td>1.000000e+00</td>\n",
       "      <td>1.000000e+00</td>\n",
       "      <td>1.000000e+00</td>\n",
       "      <td>1.000000e+00</td>\n",
       "      <td>1.000000e+00</td>\n",
       "    </tr>\n",
       "  </tbody>\n",
       "</table>\n",
       "<p>200 rows × 99 columns</p>\n",
       "</div>"
      ],
      "text/plain": [
       "         x0y1      x0y2      x0y3      x0y4          x0y5          x0y6  \\\n",
       "0    0.116706  0.013620  0.001590  0.000186  2.165069e-05  2.526773e-06   \n",
       "1    0.082345  0.006781  0.000558  0.000046  3.785956e-06  3.117530e-07   \n",
       "2    0.291094  0.084736  0.024666  0.007180  2.090092e-03  6.084129e-04   \n",
       "3    0.091764  0.008421  0.000773  0.000071  6.506846e-06  5.970966e-07   \n",
       "4    0.054629  0.002984  0.000163  0.000009  4.865555e-07  2.658024e-08   \n",
       "..        ...       ...       ...       ...           ...           ...   \n",
       "195  1.000000  1.000000  1.000000  1.000000  1.000000e+00  1.000000e+00   \n",
       "196  1.000000  1.000000  1.000000  1.000000  1.000000e+00  1.000000e+00   \n",
       "197  1.000000  1.000000  1.000000  1.000000  1.000000e+00  1.000000e+00   \n",
       "198  1.000000  1.000000  1.000000  1.000000  1.000000e+00  1.000000e+00   \n",
       "199  1.000000  1.000000  1.000000  1.000000  1.000000e+00  1.000000e+00   \n",
       "\n",
       "             x0y7          x0y8          x0y9     x1y0  ...      x9y0  \\\n",
       "0    2.948903e-07  3.441556e-08  4.016514e-09  0.76090  ...  0.085496   \n",
       "1    2.567118e-08  2.113883e-09  1.740668e-10  0.99777  ...  0.980108   \n",
       "2    1.771053e-04  5.155426e-05  1.500713e-05  1.02459  ...  1.244374   \n",
       "3    5.479219e-08  5.027971e-09  4.613886e-10  1.07755  ...  1.958560   \n",
       "4    1.452063e-09  7.932531e-11  4.333495e-12  0.91385  ...  0.444503   \n",
       "..            ...           ...           ...      ...  ...       ...   \n",
       "195  1.000000e+00  1.000000e+00  1.000000e+00  1.00000  ...  1.000000   \n",
       "196  1.000000e+00  1.000000e+00  1.000000e+00  1.00000  ...  1.000000   \n",
       "197  1.000000e+00  1.000000e+00  1.000000e+00  1.00000  ...  1.000000   \n",
       "198  1.000000e+00  1.000000e+00  1.000000e+00  1.00000  ...  1.000000   \n",
       "199  1.000000e+00  1.000000e+00  1.000000e+00  1.00000  ...  1.000000   \n",
       "\n",
       "         x9y1      x9y2      x9y3      x9y4          x9y5          x9y6  \\\n",
       "0    0.009978  0.001164  0.000136  0.000016  1.851058e-06  2.160302e-07   \n",
       "1    0.080707  0.006646  0.000547  0.000045  3.710646e-06  3.055516e-07   \n",
       "2    0.362230  0.105443  0.030694  0.008935  2.600856e-03  7.570933e-04   \n",
       "3    0.179726  0.016492  0.001513  0.000139  1.274405e-05  1.169450e-06   \n",
       "4    0.024283  0.001327  0.000072  0.000004  2.162751e-07  1.181498e-08   \n",
       "..        ...       ...       ...       ...           ...           ...   \n",
       "195  1.000000  1.000000  1.000000  1.000000  1.000000e+00  1.000000e+00   \n",
       "196  1.000000  1.000000  1.000000  1.000000  1.000000e+00  1.000000e+00   \n",
       "197  1.000000  1.000000  1.000000  1.000000  1.000000e+00  1.000000e+00   \n",
       "198  1.000000  1.000000  1.000000  1.000000  1.000000e+00  1.000000e+00   \n",
       "199  1.000000  1.000000  1.000000  1.000000  1.000000e+00  1.000000e+00   \n",
       "\n",
       "             x9y7          x9y8          x9y9  \n",
       "0    2.521209e-08  2.942410e-09  3.433978e-10  \n",
       "1    2.516053e-08  2.071833e-09  1.706043e-10  \n",
       "2    2.203852e-04  6.415279e-05  1.867449e-05  \n",
       "3    1.073138e-07  9.847584e-09  9.036573e-10  \n",
       "4    6.454455e-10  3.526030e-11  1.926249e-12  \n",
       "..            ...           ...           ...  \n",
       "195  1.000000e+00  1.000000e+00  1.000000e+00  \n",
       "196  1.000000e+00  1.000000e+00  1.000000e+00  \n",
       "197  1.000000e+00  1.000000e+00  1.000000e+00  \n",
       "198  1.000000e+00  1.000000e+00  1.000000e+00  \n",
       "199  1.000000e+00  1.000000e+00  1.000000e+00  \n",
       "\n",
       "[200 rows x 99 columns]"
      ]
     },
     "execution_count": 12,
     "metadata": {},
     "output_type": "execute_result"
    }
   ],
   "source": [
    "new_data = new_data.drop('x0y0', axis=1)\n",
    "new_data"
   ]
  },
  {
   "cell_type": "markdown",
   "metadata": {
    "colab_type": "text",
    "id": "627itH4f6ZIc"
   },
   "source": [
    "- 필요 함수들을 선언하겠습니다."
   ]
  },
  {
   "cell_type": "code",
   "execution_count": 13,
   "metadata": {
    "colab": {},
    "colab_type": "code",
    "id": "WBZU2OW46ZIe"
   },
   "outputs": [],
   "source": [
    "def logistic(x):\n",
    "    return 1 / (1 + math.e ** -x)"
   ]
  },
  {
   "cell_type": "code",
   "execution_count": 14,
   "metadata": {
    "colab": {},
    "colab_type": "code",
    "id": "B15WrdHy6ZIj"
   },
   "outputs": [],
   "source": [
    "def check_accuracy(result):\n",
    "    match = 0\n",
    "    for i in range(len(result)):\n",
    "        if result[i] < 0.5 and label[i] == 0:\n",
    "            match += 1\n",
    "        if result[i] >= 0.5 and label[i] == 1:\n",
    "            match += 1\n",
    "    return match/len(label)"
   ]
  },
  {
   "cell_type": "code",
   "execution_count": 15,
   "metadata": {
    "colab": {},
    "colab_type": "code",
    "id": "1_Fr3zwYBokb"
   },
   "outputs": [],
   "source": [
    "def mesh():\n",
    "    x = np.arange(-1,1,0.001)\n",
    "    y = np.arange(-1,1,0.001)\n",
    "    return np.meshgrid(x,y)"
   ]
  },
  {
   "cell_type": "markdown",
   "metadata": {
    "colab_type": "text",
    "id": "tQkvP8mux7bb"
   },
   "source": [
    "- 람다값은 0.0001, 0.01, 1 입니다. 그리고 결과값을 리스트들에 담에 저장하겠습니다."
   ]
  },
  {
   "cell_type": "code",
   "execution_count": 18,
   "metadata": {
    "colab": {},
    "colab_type": "code",
    "id": "xaM-hsky6ZIr"
   },
   "outputs": [],
   "source": [
    "ephochs = 100\n",
    "m = len(label)\n",
    "learning_rate = 0.1\n",
    "new_data_array = np.array(new_data)\n",
    "lamda_list = [0.0001, 0.01, 1]\n",
    "Loss_list = []\n",
    "accuracy_list = []\n",
    "result = []"
   ]
  },
  {
   "cell_type": "code",
   "execution_count": 22,
   "metadata": {
    "colab": {
     "base_uri": "https://localhost:8080/",
     "height": 545
    },
    "colab_type": "code",
    "id": "JVyFKTuy6ZIv",
    "outputId": "8575330a-d213-4068-85d6-dd50965ce0a0"
   },
   "outputs": [
    {
     "name": "stdout",
     "output_type": "stream",
     "text": [
      "0 times running..\n"
     ]
    },
    {
     "name": "stderr",
     "output_type": "stream",
     "text": [
      "C:\\Users\\alber\\Anaconda3\\lib\\site-packages\\ipykernel_launcher.py:12: RuntimeWarning: divide by zero encountered in log\n",
      "  if sys.path[0] == '':\n"
     ]
    },
    {
     "name": "stdout",
     "output_type": "stream",
     "text": [
      "10 times running..\n",
      "20 times running..\n",
      "30 times running..\n",
      "40 times running..\n",
      "50 times running..\n",
      "60 times running..\n",
      "70 times running..\n",
      "80 times running..\n",
      "90 times running..\n",
      "0 times running..\n",
      "10 times running..\n",
      "20 times running..\n",
      "30 times running..\n",
      "40 times running..\n",
      "50 times running..\n",
      "60 times running..\n",
      "70 times running..\n",
      "80 times running..\n",
      "90 times running..\n",
      "0 times running..\n",
      "10 times running..\n",
      "20 times running..\n",
      "30 times running..\n",
      "40 times running..\n",
      "50 times running..\n",
      "60 times running..\n",
      "70 times running..\n",
      "80 times running..\n",
      "90 times running..\n"
     ]
    }
   ],
   "source": [
    "for idx, lamda in enumerate(lamda_list):\n",
    "    Loss = []\n",
    "    accuracy = []\n",
    "    coef = np.zeros(99)\n",
    "    coef_list = np.zeros((10,10)).tolist()\n",
    "    t0 = 0\n",
    "\n",
    "    for i in range(ephochs):  \n",
    "        if i % 10 == 0:\n",
    "            print(str(i) + \" times running..\")\n",
    "        h = np.array(logistic(new_data.dot(coef) + t0))\n",
    "        Logistic_cost = - (1/m) * np.sum(label * np.log(h) + (1-label) * np.log(1-h)) + lamda * (t0 ** 2 + np.sum(coef ** 2))\n",
    "        \n",
    "        Loss.append(Logistic_cost)\n",
    "        accuracy.append(check_accuracy(h))   \n",
    "        \n",
    "        t0 = t0 - learning_rate * np.sum((h - label) / m)\n",
    "        for i in range(1, len(coef)):\n",
    "            coef[i] = coef[i] - learning_rate * (np.sum((h - label) * new_data_array[:,i] / m) + lamda * coef[i])\n",
    "    \n",
    "    Loss_list.append(Loss)\n",
    "    accuracy_list.append(accuracy)"
   ]
  },
  {
   "cell_type": "markdown",
   "metadata": {
    "colab_type": "text",
    "id": "Z3JxjhjUyG2W"
   },
   "source": [
    "# [ Plotting the results]"
   ]
  },
  {
   "cell_type": "markdown",
   "metadata": {
    "colab_type": "text",
    "id": "wJR1eXgMyKTs"
   },
   "source": [
    "## 1. Plot the training data"
   ]
  },
  {
   "cell_type": "code",
   "execution_count": 23,
   "metadata": {
    "colab": {
     "base_uri": "https://localhost:8080/",
     "height": 281
    },
    "colab_type": "code",
    "id": "LkBuwnB0yL9E",
    "outputId": "8025d478-2623-4008-8a33-f73613f181cc"
   },
   "outputs": [
    {
     "data": {
      "image/png": "[encoded data removed]",
      "text/plain": [
       "<Figure size 432x288 with 1 Axes>"
      ]
     },
     "metadata": {
      "needs_background": "light"
     },
     "output_type": "display_data"
    }
   ],
   "source": [
    "plt.scatter(dataX_0, dataY_0, color ='b')\n",
    "plt.scatter(dataX_1, dataY_1, color ='r')\n",
    "plt.title('training data')\n",
    "plt.show()"
   ]
  },
  {
   "cell_type": "markdown",
   "metadata": {
    "colab_type": "text",
    "id": "D41YNXJKyNp0"
   },
   "source": [
    "## 2. Plot the training error with varying regularization parameters"
   ]
  },
  {
   "cell_type": "code",
   "execution_count": 24,
   "metadata": {
    "colab": {
     "base_uri": "https://localhost:8080/",
     "height": 295
    },
    "colab_type": "code",
    "id": "Pa7kGQLJ6ZIz",
    "outputId": "9bcaf9b3-6270-41e4-fb3d-cdc8cdaf78b2"
   },
   "outputs": [
    {
     "data": {
      "image/png": "[encoded data removed]",
      "text/plain": [
       "<Figure size 432x288 with 1 Axes>"
      ]
     },
     "metadata": {
      "needs_background": "light"
     },
     "output_type": "display_data"
    }
   ],
   "source": [
    "color = ['r','g','b']\n",
    "for idx, loss in enumerate(Loss_list):\n",
    "    plt.plot([i for i in range(len(loss))], loss, c = color[idx])\n",
    "plt.title('Training Error')\n",
    "plt.xlabel('time')\n",
    "plt.ylabel('val')\n",
    "plt.show()"
   ]
  },
  {
   "cell_type": "markdown",
   "metadata": {
    "colab_type": "text",
    "id": "DA7-x20QyGyO"
   },
   "source": [
    "## 3. Display the values of the chosen regularization parameters"
   ]
  },
  {
   "cell_type": "code",
   "execution_count": 25,
   "metadata": {
    "colab": {
     "base_uri": "https://localhost:8080/",
     "height": 70
    },
    "colab_type": "code",
    "id": "KrzcAK83ywXb",
    "outputId": "69fc74e9-df55-4149-ff3d-9e5ebb4042eb"
   },
   "outputs": [
    {
     "name": "stdout",
     "output_type": "stream",
     "text": [
      "\u001b[31mover-fitting 0.0001\u001b[0m\n",
      "\u001b[32mjust-right 0.01\u001b[0m\n",
      "\u001b[34munder-fitting 1\u001b[0m\n"
     ]
    }
   ],
   "source": [
    "print('\\033[31m' +'over-fitting ' + str(lamda_list[0]) + '\\033[0m') \n",
    "print('\\033[32m' +'just-right '+ str(lamda_list[1]) + '\\033[0m') \n",
    "print('\\033[34m' +'under-fitting ' + str(lamda_list[2]) + '\\033[0m') \n"
   ]
  },
  {
   "cell_type": "markdown",
   "metadata": {
    "colab_type": "text",
    "id": "kazrZTR1zKdf"
   },
   "source": [
    "## 4. Plot the training accuracy with varying regularization parameters"
   ]
  },
  {
   "cell_type": "code",
   "execution_count": 26,
   "metadata": {
    "colab": {
     "base_uri": "https://localhost:8080/",
     "height": 295
    },
    "colab_type": "code",
    "id": "fFvQcj8a6ZI2",
    "outputId": "6a4e88a5-4c25-44d4-e551-f46f0307a36c"
   },
   "outputs": [
    {
     "data": {
      "image/png": "[encoded data removed]",
      "text/plain": [
       "<Figure size 432x288 with 1 Axes>"
      ]
     },
     "metadata": {
      "needs_background": "light"
     },
     "output_type": "display_data"
    }
   ],
   "source": [
    "color = ['r','g','b']\n",
    "for idx, ac in enumerate(accuracy_list):\n",
    "    plt.plot([i for i in range(len(ac))], ac, c = color[idx])\n",
    "plt.title('Accuracy')\n",
    "plt.xlabel('time')\n",
    "plt.ylabel('accuracy')\n",
    "plt.show()"
   ]
  },
  {
   "cell_type": "markdown",
   "metadata": {
    "colab_type": "text",
    "id": "062aRWCrzMlJ"
   },
   "source": [
    "## 5. Display the final training accuracy with varying regularization parameters"
   ]
  },
  {
   "cell_type": "code",
   "execution_count": 27,
   "metadata": {
    "colab": {
     "base_uri": "https://localhost:8080/",
     "height": 70
    },
    "colab_type": "code",
    "id": "d2HWVBshzOi6",
    "outputId": "24813237-af1d-461a-9c74-97dd4227930c"
   },
   "outputs": [
    {
     "name": "stdout",
     "output_type": "stream",
     "text": [
      "\u001b[31mover-fitting 0.85\u001b[0m\n",
      "\u001b[32mjust-right 0.855\u001b[0m\n",
      "\u001b[34munder-fitting 0.85\u001b[0m\n"
     ]
    }
   ],
   "source": [
    "print('\\033[31m' + \"over-fitting \" +str(accuracy_list[0][-1]) + '\\033[0m') \n",
    "print('\\033[32m' +'just-right '+ str(accuracy_list[1][-1]) + '\\033[0m') \n",
    "print('\\033[34m' +'under-fitting '+  str(accuracy_list[2][-1]) + '\\033[0m') "
   ]
  },
  {
   "cell_type": "markdown",
   "metadata": {
    "colab_type": "text",
    "id": "3TZtbYOFzOnd"
   },
   "source": [
    "## 6. Plot the optimal classifier with varying regularization parameters superimposed on the training data\n",
    "\n"
   ]
  },
  {
   "cell_type": "code",
   "execution_count": 28,
   "metadata": {
    "colab": {
     "base_uri": "https://localhost:8080/",
     "height": 265
    },
    "colab_type": "code",
    "id": "TUnvo4X-Gl77",
    "outputId": "8c9a8f7a-9cbf-436a-8d56-364c456500fd"
   },
   "outputs": [
    {
     "data": {
      "image/png": "[encoded data removed]",
      "text/plain": [
       "<Figure size 432x288 with 1 Axes>"
      ]
     },
     "metadata": {
      "needs_background": "light"
     },
     "output_type": "display_data"
    }
   ],
   "source": [
    "color = ['r','g','b']\n",
    "for idx, r in enumerate(result):    \n",
    "    plt.contour(r[0],r[1],r[2],[0] ,colors=color[idx])\n",
    "\n",
    "plt.scatter(dataX_0, dataY_0, color ='b')\n",
    "plt.scatter(dataX_1, dataY_1, color ='r')\n",
    "plt.show()"
   ]
  }
 ],
 "metadata": {
  "colab": {
   "collapsed_sections": [],
   "name": "Assignment7_20150804_정민준.ipynb",
   "provenance": [],
   "toc_visible": true
  },
  "kernelspec": {
   "display_name": "Python 3",
   "language": "python",
   "name": "python3"
  },
  "language_info": {
   "codemirror_mode": {
    "name": "ipython",
    "version": 3
   },
   "file_extension": ".py",
   "mimetype": "text/x-python",
   "name": "python",
   "nbconvert_exporter": "python",
   "pygments_lexer": "ipython3",
   "version": "3.7.4"
  }
 },
 "nbformat": 4,
 "nbformat_minor": 4
}
