{
 "cells": [
  {
   "cell_type": "markdown",
   "metadata": {},
   "source": [
    "# Manipulate PyTorch Tensors\n",
    "<hr>\n",
    "\n",
    "## Matrix manipulation"
   ]
  },
  {
   "cell_type": "code",
   "execution_count": 19,
   "metadata": {},
   "outputs": [],
   "source": [
    "import torch"
   ]
  },
  {
   "cell_type": "markdown",
   "metadata": {},
   "source": [
    "### Make the matrices A and B below. Add them together to obtain a matrix C. Print these three matrices.\n",
    "$$\n",
    "A =\\begin{bmatrix}\n",
    "1 & 2 \\\\ 3 & 4\n",
    "\\end{bmatrix}  \n",
    "\\qquad \n",
    "B =\\begin{bmatrix}\n",
    "10 & 20 \\\\ 30 & 40\n",
    "\\end{bmatrix}  \\qquad C=A+B =?\n",
    "$$"
   ]
  },
  {
   "cell_type": "code",
   "execution_count": 9,
   "metadata": {},
   "outputs": [
    {
     "name": "stdout",
     "output_type": "stream",
     "text": [
      "[[1 2]\n",
      " [3 4]]\n",
      "\n",
      "[[10 20]\n",
      " [30 40]]\n",
      "\n",
      "[[11 22]\n",
      " [33 44]]\n"
     ]
    }
   ],
   "source": [
    "import numpy as np\n",
    "# write your code here\n",
    "\n",
    "A = np.array([[1,2], [3, 4]])\n",
    "B = np.array([[10, 20], [30, 40]])\n",
    "C = A + B\n",
    "\n",
    "# print\n",
    "print(A)\n",
    "print('')\n",
    "print(B)\n",
    "print('')\n",
    "print(C)"
   ]
  },
  {
   "cell_type": "markdown",
   "metadata": {},
   "source": [
    "### Print the dimension, size and type of the matrix A. Remember, the commands are dim(), size() and type()"
   ]
  },
  {
   "cell_type": "code",
   "execution_count": 17,
   "metadata": {},
   "outputs": [
    {
     "name": "stdout",
     "output_type": "stream",
     "text": [
      "2\n",
      "\n",
      "4\n",
      "\n",
      "<class 'numpy.ndarray'>\n"
     ]
    }
   ],
   "source": [
    "# write your code here\n",
    "\n",
    "print(A.ndim)    # print the dimension of the matrix A\n",
    "print('')\n",
    "print(A.size)    # print the size of the matrix A\n",
    "print('')\n",
    "print(type(A))    # print the type of the matrix A"
   ]
  },
  {
   "cell_type": "markdown",
   "metadata": {},
   "source": [
    "### Convert the matrix A to be an integer matrix  (type LongTensor). Remember, the command is long(). Then print the type to check it was indeed converted."
   ]
  },
  {
   "cell_type": "code",
   "execution_count": 26,
   "metadata": {},
   "outputs": [
    {
     "name": "stdout",
     "output_type": "stream",
     "text": [
      "<class 'torch.Tensor'>\n",
      "\n",
      "<class 'torch.Tensor'>\n"
     ]
    },
    {
     "name": "stderr",
     "output_type": "stream",
     "text": [
      "C:\\Users\\alber\\Anaconda3\\lib\\site-packages\\ipykernel_launcher.py:3: UserWarning: To copy construct from a tensor, it is recommended to use sourceTensor.clone().detach() or sourceTensor.clone().detach().requires_grad_(True), rather than torch.tensor(sourceTensor).\n",
      "  This is separate from the ipykernel package so we can avoid doing imports until\n"
     ]
    }
   ],
   "source": [
    "\n",
    "# write your code here\n",
    "\n",
    "A_long = torch.tensor(A, dtype = torch.long)\n",
    "\n",
    "print(type(A_long))    # print the type of A_long\n",
    "print('')\n",
    "print(type(A))    # print the type of A"
   ]
  },
  {
   "cell_type": "markdown",
   "metadata": {},
   "source": [
    "### Make a random 5 x 2 x 3 Tensor. The command is torch.rand.  Then do the following:   1) Print the tensor,  2) Print its type, 3) Print its dimension,  4) Print its size, 5) Print the size of its middle dimension."
   ]
  },
  {
   "cell_type": "code",
   "execution_count": 46,
   "metadata": {},
   "outputs": [
    {
     "name": "stdout",
     "output_type": "stream",
     "text": [
      "tensor([[[0.1661, 0.9535, 0.0349],\n",
      "         [0.1373, 0.5067, 0.3667]],\n",
      "\n",
      "        [[0.8873, 0.5244, 0.5050],\n",
      "         [0.5828, 0.3709, 0.3313]],\n",
      "\n",
      "        [[0.5031, 0.2025, 0.9241],\n",
      "         [0.8626, 0.1085, 0.7283]],\n",
      "\n",
      "        [[0.0095, 0.8186, 0.5817],\n",
      "         [0.7872, 0.8827, 0.5018]],\n",
      "\n",
      "        [[0.1271, 0.6069, 0.1658],\n",
      "         [0.7814, 0.8648, 0.1189]]])\n",
      "<class 'torch.Tensor'>\n",
      "3\n",
      "torch.Size([5, 2, 3])\n",
      "2\n"
     ]
    }
   ],
   "source": [
    "\n",
    "# write your code here\n",
    "\n",
    "A = torch.rand(5,2,3)\n",
    "\n",
    "print(A)\n",
    "print(type(A))    # print the type of A\n",
    "print(A.dim())    # print the dimension of A\n",
    "print(A.size())    # print the size of A\n",
    "print(A[0].dim())    # print the size of the middle (second) dimension"
   ]
  },
  {
   "cell_type": "markdown",
   "metadata": {},
   "source": [
    "### Make 2 x 3 x 4 x 5 tensor filled with zeros then print it. (The command is torch.zeros). See if you can make sense of the display."
   ]
  },
  {
   "cell_type": "code",
   "execution_count": 48,
   "metadata": {},
   "outputs": [
    {
     "name": "stdout",
     "output_type": "stream",
     "text": [
      "tensor([[[[0., 0., 0., 0., 0.],\n",
      "          [0., 0., 0., 0., 0.],\n",
      "          [0., 0., 0., 0., 0.],\n",
      "          [0., 0., 0., 0., 0.]],\n",
      "\n",
      "         [[0., 0., 0., 0., 0.],\n",
      "          [0., 0., 0., 0., 0.],\n",
      "          [0., 0., 0., 0., 0.],\n",
      "          [0., 0., 0., 0., 0.]],\n",
      "\n",
      "         [[0., 0., 0., 0., 0.],\n",
      "          [0., 0., 0., 0., 0.],\n",
      "          [0., 0., 0., 0., 0.],\n",
      "          [0., 0., 0., 0., 0.]]],\n",
      "\n",
      "\n",
      "        [[[0., 0., 0., 0., 0.],\n",
      "          [0., 0., 0., 0., 0.],\n",
      "          [0., 0., 0., 0., 0.],\n",
      "          [0., 0., 0., 0., 0.]],\n",
      "\n",
      "         [[0., 0., 0., 0., 0.],\n",
      "          [0., 0., 0., 0., 0.],\n",
      "          [0., 0., 0., 0., 0.],\n",
      "          [0., 0., 0., 0., 0.]],\n",
      "\n",
      "         [[0., 0., 0., 0., 0.],\n",
      "          [0., 0., 0., 0., 0.],\n",
      "          [0., 0., 0., 0., 0.],\n",
      "          [0., 0., 0., 0., 0.]]]])\n"
     ]
    }
   ],
   "source": [
    "\n",
    "# write your code here\n",
    "\n",
    "A = torch.zeros(2, 3, 4, 5)\n",
    "\n",
    "print(A)\n"
   ]
  },
  {
   "cell_type": "code",
   "execution_count": null,
   "metadata": {},
   "outputs": [],
   "source": []
  }
 ],
 "metadata": {
  "kernelspec": {
   "display_name": "Python 3",
   "language": "python",
   "name": "python3"
  },
  "language_info": {
   "codemirror_mode": {
    "name": "ipython",
    "version": 3
   },
   "file_extension": ".py",
   "mimetype": "text/x-python",
   "name": "python",
   "nbconvert_exporter": "python",
   "pygments_lexer": "ipython3",
   "version": "3.7.4"
  }
 },
 "nbformat": 4,
 "nbformat_minor": 4
}
