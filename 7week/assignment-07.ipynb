{
 "cells": [
  {
   "cell_type": "markdown",
   "metadata": {},
   "source": [
    "- ### load data"
   ]
  },
  {
   "cell_type": "code",
   "execution_count": 79,
   "metadata": {},
   "outputs": [],
   "source": [
    "import numpy as np\n",
    "import matplotlib.pyplot as plt\n",
    "import pandas as pd\n",
    "import math\n",
    "\n",
    "dataset = pd.read_csv('data-kmeans.csv')\n",
    "data = dataset.values"
   ]
  },
  {
   "cell_type": "markdown",
   "metadata": {},
   "source": [
    "- ### init labels"
   ]
  },
  {
   "cell_type": "code",
   "execution_count": 80,
   "metadata": {},
   "outputs": [],
   "source": [
    "label = []\n",
    "for i in range(len(data)):\n",
    "    label.append([i % 5 + 1])\n",
    "\n",
    "label = np.array(label)\n",
    "data = np.concatenate((data, label), axis=1)"
   ]
  },
  {
   "cell_type": "markdown",
   "metadata": {},
   "source": [
    "- ### Compute init Centroids"
   ]
  },
  {
   "cell_type": "code",
   "execution_count": 81,
   "metadata": {},
   "outputs": [],
   "source": [
    "Centroids = [[0, 0], [0, 0], [0, 0], [0, 0], [0, 0]]\n",
    "\n",
    "for i in range(data.shape[0]):\n",
    "    if data[i][2] == 1:\n",
    "        Centroids[0][0] += data[i][0] / 40\n",
    "        Centroids[0][1] += data[i][1] / 40\n",
    " \n",
    "    elif data[i][2] == 2:\n",
    "        Centroids[1][0] += data[i][0] / 40\n",
    "        Centroids[1][1] += data[i][1] / 40\n",
    "\n",
    "    elif data[i][2] == 3:\n",
    "        Centroids[2][0] += data[i][0] / 40\n",
    "        Centroids[2][1] += data[i][1] / 40\n",
    "        \n",
    "    elif data[i][2] == 4:\n",
    "        Centroids[3][0] += data[i][0] / 40\n",
    "        Centroids[3][1] += data[i][1] / 40\n",
    "        \n",
    "    elif data[i][2] == 5:\n",
    "        Centroids[4][0] += data[i][0] / 40\n",
    "        Centroids[4][1] += data[i][1] / 40"
   ]
  },
  {
   "cell_type": "markdown",
   "metadata": {},
   "source": [
    "- ### Define functions"
   ]
  },
  {
   "cell_type": "code",
   "execution_count": 82,
   "metadata": {},
   "outputs": [],
   "source": [
    "def compute_distance(a, b):\n",
    "    # distance between a and b\n",
    "    dist = math.sqrt((a[0] - b[0]) ** 2 + (a[1] - b[1]) ** 2)\n",
    "\n",
    "    return dist"
   ]
  },
  {
   "cell_type": "code",
   "execution_count": 83,
   "metadata": {},
   "outputs": [],
   "source": [
    "def compute_centroid(Z):\n",
    "    center = [[0, 0] for i in range(5)]\n",
    "    cluster_n = [0 for i in range(5)]\n",
    "    \n",
    "    for i in range(data.shape[0]):\n",
    "        if Z[i][2] == 1:\n",
    "            center[0][0] += data[i][0]\n",
    "            center[0][1] += data[i][1]\n",
    "            cluster_n[0] +=1\n",
    "\n",
    "        elif Z[i][2] == 2:\n",
    "            center[1][0] += data[i][0]\n",
    "            center[1][1] += data[i][1] \n",
    "            cluster_n[1] +=1\n",
    "\n",
    "        elif Z[i][2] == 3:\n",
    "            center[2][0] += data[i][0]\n",
    "            center[2][1] += data[i][1]\n",
    "            cluster_n[2] +=1\n",
    "\n",
    "        elif Z[i][2] == 4:\n",
    "            center[3][0] += data[i][0] \n",
    "            center[3][1] += data[i][1] \n",
    "            cluster_n[3] +=1\n",
    "\n",
    "        elif Z[i][2] == 5:\n",
    "            center[4][0] += data[i][0] \n",
    "            center[4][1] += data[i][1] \n",
    "            cluster_n[4] +=1\n",
    "    \n",
    "    for i in range(len(center)):\n",
    "        center[i][0] = center[i][0] / cluster_n[i]\n",
    "        center[i][1] = center[i][1] / cluster_n[i]\n",
    "    \n",
    "    return center"
   ]
  },
  {
   "cell_type": "code",
   "execution_count": 84,
   "metadata": {},
   "outputs": [],
   "source": [
    "def compute_label(z, M):\n",
    "    \n",
    "    distance_list = [compute_distance(z, M[i]) for i in range(len(M))]\n",
    "    label = distance_list.index(min(distance_list)) + 1\n",
    "    \n",
    "    return label"
   ]
  },
  {
   "cell_type": "code",
   "execution_count": 85,
   "metadata": {},
   "outputs": [],
   "source": [
    "def compute_loss(C, M):\n",
    "    loss = 0\n",
    "    \n",
    "    for i in range(C.shape[0]):\n",
    "        loss += compute_distance(C[i], M[C[i][2] - 1])\n",
    "        \n",
    "    return loss / C.shape[0]"
   ]
  },
  {
   "cell_type": "markdown",
   "metadata": {},
   "source": [
    "- ### main code"
   ]
  },
  {
   "cell_type": "code",
   "execution_count": 86,
   "metadata": {},
   "outputs": [],
   "source": [
    "loss_curve = []\n",
    "centroid_curv = [[] for i in range(5)]\n",
    "ephochs = 100"
   ]
  },
  {
   "cell_type": "code",
   "execution_count": 87,
   "metadata": {},
   "outputs": [],
   "source": [
    "for run in range(ephochs):\n",
    "    Centroids = compute_centroid(data)\n",
    "\n",
    "    for i in range(data.shape[0]):\n",
    "        data[i][2] = compute_label(data[i], Centroids)\n",
    "    loss_curve.append(compute_loss(data, Centroids))"
   ]
  },
  {
   "cell_type": "markdown",
   "metadata": {},
   "source": [
    "## 1. Plot the data points [1pt]"
   ]
  },
  {
   "cell_type": "code",
   "execution_count": 25,
   "metadata": {},
   "outputs": [
    {
     "data": {
      "image/png": "[encoded data removed]",
      "text/plain": [
       "<Figure size 720x576 with 1 Axes>"
      ]
     },
     "metadata": {
      "needs_background": "light"
     },
     "output_type": "display_data"
    }
   ],
   "source": [
    "fig = plt.figure(figsize=(10,8))\n",
    "plt.scatter(data[:,0], data[:,1], c = 'black', label='data')\n",
    "plt.title(\"data point\")\n",
    "plt.legend()\n",
    "plt.show()"
   ]
  },
  {
   "cell_type": "markdown",
   "metadata": {},
   "source": [
    "## 2. Visualise the initial condition of the point labels [1pt]"
   ]
  },
  {
   "cell_type": "code",
   "execution_count": 16,
   "metadata": {},
   "outputs": [
    {
     "data": {
      "image/png": "[encoded data removed]",
      "text/plain": [
       "<Figure size 864x720 with 1 Axes>"
      ]
     },
     "metadata": {
      "needs_background": "light"
     },
     "output_type": "display_data"
    }
   ],
   "source": [
    "Cluster1 = []\n",
    "Cluster2 = []\n",
    "Cluster3 = []\n",
    "Cluster4 = []\n",
    "Cluster5 = []\n",
    "color_list = [\"green\", \"blue\", \"brown\", \"skyblue\", \"violet\"]\n",
    "name_list = [\"Cluster 1\", \"Cluster 2\", \"Cluster 3\", \"Cluster 4\", \"Cluster 5\"]\n",
    "\n",
    "fig = plt.figure(figsize=(12,10))\n",
    "for i in range(data.shape[0]):\n",
    "    if data[i][2] == 1:\n",
    "        Cluster1.append(data[i])\n",
    " \n",
    "    elif data[i][2] == 2:\n",
    "        Cluster2.append(data[i])\n",
    "\n",
    "        \n",
    "    elif data[i][2] == 3:\n",
    "        Cluster3.append(data[i])\n",
    "\n",
    "        \n",
    "    elif data[i][2] == 4:\n",
    "        Cluster4.append(data[i])\n",
    "\n",
    "        \n",
    "    elif data[i][2] == 5:\n",
    "        Cluster5.append(data[i])\n",
    "\n",
    "plt.scatter(np.array(Cluster1)[:,0], np.array(Cluster1)[:,1], c = color_list[0], label = name_list[0])\n",
    "plt.scatter(np.array(Cluster2)[:,0], np.array(Cluster2)[:,1], c = color_list[1], label = name_list[1])\n",
    "plt.scatter(np.array(Cluster3)[:,0], np.array(Cluster3)[:,1], c = color_list[2], label = name_list[2])\n",
    "plt.scatter(np.array(Cluster4)[:,0], np.array(Cluster4)[:,1], c = color_list[3], label = name_list[3])\n",
    "plt.scatter(np.array(Cluster5)[:,0], np.array(Cluster5)[:,1], c = color_list[4], label = name_list[4])\n",
    "plt.scatter(np.array(Centroids)[:,0], np.array(Centroids)[:,1], c = 'black', marker = '+', label = \"Centroids\")\n",
    "\n",
    "\n",
    "plt.title(\"Initial cluster\")\n",
    "plt.legend()\n",
    "plt.show()"
   ]
  },
  {
   "cell_type": "markdown",
   "metadata": {},
   "source": [
    "## 3. Plot the loss curve [5pt]"
   ]
  },
  {
   "cell_type": "code",
   "execution_count": 88,
   "metadata": {},
   "outputs": [
    {
     "data": {
      "text/plain": [
       "[29.52335581900937,\n",
       " 17.325690173953873,\n",
       " 13.203269157671555,\n",
       " 13.013988963669524,\n",
       " 13.014862894193218,\n",
       " 13.014862894193218,\n",
       " 13.014862894193218,\n",
       " 13.014862894193218,\n",
       " 13.014862894193218,\n",
       " 13.014862894193218,\n",
       " 13.014862894193218,\n",
       " 13.014862894193218,\n",
       " 13.014862894193218,\n",
       " 13.014862894193218,\n",
       " 13.014862894193218,\n",
       " 13.014862894193218,\n",
       " 13.014862894193218,\n",
       " 13.014862894193218,\n",
       " 13.014862894193218,\n",
       " 13.014862894193218,\n",
       " 13.014862894193218,\n",
       " 13.014862894193218,\n",
       " 13.014862894193218,\n",
       " 13.014862894193218,\n",
       " 13.014862894193218,\n",
       " 13.014862894193218,\n",
       " 13.014862894193218,\n",
       " 13.014862894193218,\n",
       " 13.014862894193218,\n",
       " 13.014862894193218,\n",
       " 13.014862894193218,\n",
       " 13.014862894193218,\n",
       " 13.014862894193218,\n",
       " 13.014862894193218,\n",
       " 13.014862894193218,\n",
       " 13.014862894193218,\n",
       " 13.014862894193218,\n",
       " 13.014862894193218,\n",
       " 13.014862894193218,\n",
       " 13.014862894193218,\n",
       " 13.014862894193218,\n",
       " 13.014862894193218,\n",
       " 13.014862894193218,\n",
       " 13.014862894193218,\n",
       " 13.014862894193218,\n",
       " 13.014862894193218,\n",
       " 13.014862894193218,\n",
       " 13.014862894193218,\n",
       " 13.014862894193218,\n",
       " 13.014862894193218,\n",
       " 13.014862894193218,\n",
       " 13.014862894193218,\n",
       " 13.014862894193218,\n",
       " 13.014862894193218,\n",
       " 13.014862894193218,\n",
       " 13.014862894193218,\n",
       " 13.014862894193218,\n",
       " 13.014862894193218,\n",
       " 13.014862894193218,\n",
       " 13.014862894193218,\n",
       " 13.014862894193218,\n",
       " 13.014862894193218,\n",
       " 13.014862894193218,\n",
       " 13.014862894193218,\n",
       " 13.014862894193218,\n",
       " 13.014862894193218,\n",
       " 13.014862894193218,\n",
       " 13.014862894193218,\n",
       " 13.014862894193218,\n",
       " 13.014862894193218,\n",
       " 13.014862894193218,\n",
       " 13.014862894193218,\n",
       " 13.014862894193218,\n",
       " 13.014862894193218,\n",
       " 13.014862894193218,\n",
       " 13.014862894193218,\n",
       " 13.014862894193218,\n",
       " 13.014862894193218,\n",
       " 13.014862894193218,\n",
       " 13.014862894193218,\n",
       " 13.014862894193218,\n",
       " 13.014862894193218,\n",
       " 13.014862894193218,\n",
       " 13.014862894193218,\n",
       " 13.014862894193218,\n",
       " 13.014862894193218,\n",
       " 13.014862894193218,\n",
       " 13.014862894193218,\n",
       " 13.014862894193218,\n",
       " 13.014862894193218,\n",
       " 13.014862894193218,\n",
       " 13.014862894193218,\n",
       " 13.014862894193218,\n",
       " 13.014862894193218,\n",
       " 13.014862894193218,\n",
       " 13.014862894193218,\n",
       " 13.014862894193218,\n",
       " 13.014862894193218,\n",
       " 13.014862894193218,\n",
       " 13.014862894193218]"
      ]
     },
     "execution_count": 88,
     "metadata": {},
     "output_type": "execute_result"
    }
   ],
   "source": [
    "plt.plot(np.arr)"
   ]
  },
  {
   "cell_type": "markdown",
   "metadata": {},
   "source": [
    "## 4. Plot the centroid of each clsuter [5pt]"
   ]
  },
  {
   "cell_type": "code",
   "execution_count": null,
   "metadata": {},
   "outputs": [],
   "source": []
  },
  {
   "cell_type": "markdown",
   "metadata": {},
   "source": [
    "## 5. Plot the final clustering result [5pt]\n",
    "\n"
   ]
  },
  {
   "cell_type": "code",
   "execution_count": null,
   "metadata": {},
   "outputs": [],
   "source": []
  }
 ],
 "metadata": {
  "kernelspec": {
   "display_name": "Python 3",
   "language": "python",
   "name": "python3"
  },
  "language_info": {
   "codemirror_mode": {
    "name": "ipython",
    "version": 3
   },
   "file_extension": ".py",
   "mimetype": "text/x-python",
   "name": "python",
   "nbconvert_exporter": "python",
   "pygments_lexer": "ipython3",
   "version": "3.7.4"
  }
 },
 "nbformat": 4,
 "nbformat_minor": 4
}
