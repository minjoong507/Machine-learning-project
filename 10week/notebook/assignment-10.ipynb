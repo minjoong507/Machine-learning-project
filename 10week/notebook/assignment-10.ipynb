{
 "cells": [
  {
   "cell_type": "code",
   "execution_count": 1,
   "metadata": {},
   "outputs": [],
   "source": [
    "from matplotlib import pyplot as plt\n",
    "import numpy as np\n",
    "from torchvision import transforms, datasets\n",
    "import torch\n",
    "import torch.nn as nn\n",
    "import torch.optim as optim"
   ]
  },
  {
   "cell_type": "code",
   "execution_count": 2,
   "metadata": {},
   "outputs": [],
   "source": [
    "transform = transforms.Compose([\n",
    "    transforms.ToTensor(),\n",
    "    transforms.Normalize((0.1307,),(0.3081,)),  # mean value = 0.1307, standard deviation value = 0.3081\n",
    "])"
   ]
  },
  {
   "cell_type": "code",
   "execution_count": 3,
   "metadata": {},
   "outputs": [],
   "source": [
    "data_path = './MNIST'\n",
    "\n",
    "data_test   = datasets.MNIST(root = data_path, train= True, download=True, transform= transform)\n",
    "data_train  = datasets.MNIST(root = data_path, train= False, download=True, transform= transform)"
   ]
  },
  {
   "cell_type": "code",
   "execution_count": 4,
   "metadata": {},
   "outputs": [
    {
     "name": "stdout",
     "output_type": "stream",
     "text": [
      "the number of your training data (must be 10,000) =  10000\n",
      "hte number of your testing data (must be 60,000) =  60000\n"
     ]
    }
   ],
   "source": [
    "print(\"the number of your training data (must be 10,000) = \", data_train.__len__())\n",
    "print(\"hte number of your testing data (must be 60,000) = \", data_test.__len__())"
   ]
  },
  {
   "cell_type": "code",
   "execution_count": 5,
   "metadata": {},
   "outputs": [],
   "source": [
    "data_loader = torch.utils.data.DataLoader(data_train, batch_size=20, shuffle=True, drop_last=True)"
   ]
  },
  {
   "cell_type": "code",
   "execution_count": 10,
   "metadata": {},
   "outputs": [],
   "source": [
    "import torch.nn as nn\n",
    "import torch.nn.functional as F\n",
    "import torch\n",
    "\n",
    "class Net(nn.Module):\n",
    "    def __init__(self):\n",
    "        super(Net, self).__init__()\n",
    "        \n",
    "        # layer definition\n",
    "        self.fc1 = nn.Linear(784, 256, bias = True)\n",
    "        self.fc2 = nn.Linear(256, 256, bias = True)\n",
    "        self.fc3 = nn.Linear(256, 10, bias = True)\n",
    "        self.dropout = nn.Dropout(p=0.2)\n",
    "        self.RELU = nn.ReLU()\n",
    "        \n",
    "        # weight init\n",
    "        nn.init.xavier_uniform_(self.fc1.weight)\n",
    "        nn.init.xavier_uniform_(self.fc2.weight)\n",
    "        nn.init.xavier_uniform_(self.fc3.weight)\n",
    "        \n",
    "    def forward(self, x):\n",
    "        x = self.fc1(x)\n",
    "        x = self.RELU(x)\n",
    "        x = self.dropout(x)\n",
    "        \n",
    "        x = self.fc2(x)\n",
    "        x = self.RELU(x)\n",
    "        x = self.dropout(x)\n",
    "        \n",
    "        x = self.fc3(x)\n",
    "        return x\n",
    "        \n",
    "net = Net()"
   ]
  },
  {
   "cell_type": "code",
   "execution_count": 11,
   "metadata": {},
   "outputs": [
    {
     "data": {
      "text/plain": [
       "Net(\n",
       "  (fc1): Linear(in_features=784, out_features=256, bias=True)\n",
       "  (fc2): Linear(in_features=256, out_features=256, bias=True)\n",
       "  (fc3): Linear(in_features=256, out_features=10, bias=True)\n",
       "  (dropout): Dropout(p=0.2, inplace=False)\n",
       "  (RELU): ReLU()\n",
       ")"
      ]
     },
     "execution_count": 11,
     "metadata": {},
     "output_type": "execute_result"
    }
   ],
   "source": [
    "net"
   ]
  },
  {
   "cell_type": "code",
   "execution_count": 12,
   "metadata": {},
   "outputs": [],
   "source": [
    "import torch.optim as optim\n",
    "\n",
    "criterion = nn.CrossEntropyLoss()\n",
    "optimizer = optim.Adam(net.parameters(), lr=2e-3, weight_decay=1e-3)"
   ]
  },
  {
   "cell_type": "code",
   "execution_count": 32,
   "metadata": {},
   "outputs": [
    {
     "data": {
      "text/plain": [
       "device(type='cpu')"
      ]
     },
     "execution_count": 32,
     "metadata": {},
     "output_type": "execute_result"
    }
   ],
   "source": [
    "device = torch.device(\"cuda:0\" if torch.cuda.is_available() else \"cpu\")\n",
    "device"
   ]
  },
  {
   "cell_type": "code",
   "execution_count": 33,
   "metadata": {},
   "outputs": [
    {
     "data": {
      "text/plain": [
       "Net(\n",
       "  (fc1): Linear(in_features=784, out_features=256, bias=True)\n",
       "  (fc2): Linear(in_features=256, out_features=256, bias=True)\n",
       "  (fc3): Linear(in_features=256, out_features=10, bias=True)\n",
       "  (elu): ELU(alpha=1.0)\n",
       "  (dropout): Dropout(p=0.2, inplace=False)\n",
       ")"
      ]
     },
     "execution_count": 33,
     "metadata": {},
     "output_type": "execute_result"
    }
   ],
   "source": [
    "net.to(device)"
   ]
  },
  {
   "cell_type": "code",
   "execution_count": 25,
   "metadata": {},
   "outputs": [
    {
     "name": "stdout",
     "output_type": "stream",
     "text": [
      "Epoch : 0 loss: 48.889449536800385\n",
      "Epoch : 1 loss: 20.627399496734142\n",
      "Epoch : 2 loss: 14.851273652166128\n",
      "Epoch : 3 loss: 11.369889928027987\n",
      "Epoch : 4 loss: 11.976506352424622\n",
      "Epoch : 5 loss: 9.167719485238194\n",
      "Epoch : 6 loss: 7.631057754158974\n",
      "Epoch : 7 loss: 8.701541702263057\n",
      "Epoch : 8 loss: 6.997101535089314\n",
      "Epoch : 9 loss: 7.680372170172632\n",
      "Epoch : 10 loss: 7.176578030921519\n",
      "Epoch : 11 loss: 8.509250281378627\n",
      "Epoch : 12 loss: 6.528269550763071\n",
      "Epoch : 13 loss: 7.070951913483441\n",
      "Epoch : 14 loss: 6.180322602391243\n",
      "Epoch : 15 loss: 6.918470132164657\n",
      "Epoch : 16 loss: 6.3951578345149755\n",
      "Epoch : 17 loss: 5.929766229819506\n",
      "Epoch : 18 loss: 5.616943866014481\n",
      "Epoch : 19 loss: 6.78544154483825\n",
      "Finished Training\n"
     ]
    }
   ],
   "source": [
    "net.train()\n",
    "num_epochs = 20\n",
    "for epoch in range(num_epochs):  # loop over the dataset multiple times\n",
    "    running_loss = 0.0\n",
    "    for X, Y in data_loader: \n",
    "        X = X.view(-1, 28*28).to(device) \n",
    "        Y = Y.to(device)\n",
    "        # zero the parameter gradients\n",
    "        optimizer.zero_grad()\n",
    "        outputs = net(X)\n",
    "        loss = criterion(outputs, Y)\n",
    "        loss.backward()\n",
    "        optimizer.step()\n",
    "        \n",
    "        # print statistics\n",
    "        running_loss += loss.item()\n",
    "    print(\"Epoch : {} loss: {}\".format(epoch, running_loss))\n",
    "print('Finished Training')"
   ]
  },
  {
   "cell_type": "code",
   "execution_count": 27,
   "metadata": {},
   "outputs": [
    {
     "name": "stdout",
     "output_type": "stream",
     "text": [
      "0.940583348274231\n"
     ]
    }
   ],
   "source": [
    "with torch.no_grad(): \n",
    "    net.eval() \n",
    "    # dropout을 사용하지 않겠다는 의미. \n",
    "    # test dataset의 데이터 형태를 (batch*784)로 바꿔줌. \n",
    "    X_test = data_test.data.view(-1, 28*28).float().to(device) \n",
    "    Y_test = data_test.targets.to(device) \n",
    "    prediction = net(X_test) \n",
    "    # 각 배치별로 가장 높은 가능성의 숫자 클래스를 뽑아줌. \n",
    "    predicted_classes = torch.argmax(prediction, 1) \n",
    "    correct_count = (predicted_classes == Y_test) \n",
    "    # 맞는 개수의 평균을 내면 정확도가 나옴. \n",
    "    accuracy = correct_count.float().mean() \n",
    "    print(accuracy.item())"
   ]
  },
  {
   "cell_type": "code",
   "execution_count": null,
   "metadata": {},
   "outputs": [],
   "source": []
  }
 ],
 "metadata": {
  "kernelspec": {
   "display_name": "Python 3",
   "language": "python",
   "name": "python3"
  },
  "language_info": {
   "codemirror_mode": {
    "name": "ipython",
    "version": 3
   },
   "file_extension": ".py",
   "mimetype": "text/x-python",
   "name": "python",
   "nbconvert_exporter": "python",
   "pygments_lexer": "ipython3",
   "version": "3.7.4"
  }
 },
 "nbformat": 4,
 "nbformat_minor": 4
}
