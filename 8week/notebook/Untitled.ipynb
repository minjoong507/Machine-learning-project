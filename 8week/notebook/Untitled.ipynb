{
 "cells": [
  {
   "cell_type": "code",
   "execution_count": 3,
   "metadata": {},
   "outputs": [],
   "source": [
    "import numpy as np\n",
    "import matplotlib.pyplot as plt\n",
    "import pandas as pd"
   ]
  },
  {
   "cell_type": "markdown",
   "metadata": {},
   "source": [
    "- load the data from the file"
   ]
  },
  {
   "cell_type": "code",
   "execution_count": 17,
   "metadata": {},
   "outputs": [],
   "source": [
    "data = np.loadtxt('data-pca.txt', delimiter=',')\n",
    "x = data[:,0]\n",
    "y = data[:,1]"
   ]
  },
  {
   "cell_type": "code",
   "execution_count": 18,
   "metadata": {},
   "outputs": [
    {
     "data": {
      "text/plain": [
       "array([3.38156, 4.52788, 2.65568, 2.76523, 2.84656, 3.89067, 3.47581,\n",
       "       5.9113 , 3.92889, 4.56184, 4.57407, 4.37173, 4.19169, 5.24409,\n",
       "       2.83584, 5.63527, 4.68633, 2.85051, 5.11016, 5.18256, 5.70733,\n",
       "       3.57968, 5.63938, 4.26347, 2.53652, 3.22383, 4.92949, 5.79296,\n",
       "       2.81685, 3.88882, 3.34323, 5.87973, 3.10392, 5.33151, 3.37543,\n",
       "       4.77668, 2.67575, 5.50028, 1.7971 , 4.32251, 4.421  , 3.1793 ,\n",
       "       3.03354, 4.60935, 2.96379, 3.97176, 1.18023, 1.91895, 3.95525,\n",
       "       5.11795])"
      ]
     },
     "execution_count": 18,
     "metadata": {},
     "output_type": "execute_result"
    }
   ],
   "source": [
    "x"
   ]
  },
  {
   "cell_type": "code",
   "execution_count": 19,
   "metadata": {},
   "outputs": [
    {
     "data": {
      "text/plain": [
       "array([3.38911, 5.85418, 4.41199, 3.71541, 4.17551, 6.48838, 3.63285,\n",
       "       6.68077, 5.09845, 5.6233 , 5.39765, 5.46117, 4.95469, 4.66149,\n",
       "       3.76802, 6.31211, 5.66524, 4.62646, 7.3632 , 4.64651, 6.68104,\n",
       "       4.80278, 6.12044, 4.68943, 3.88449, 4.94256, 5.95502, 5.10839,\n",
       "       4.81896, 5.10037, 5.89301, 5.52142, 3.8571 , 4.68074, 4.56538,\n",
       "       6.25435, 3.73097, 5.67948, 3.24754, 5.1111 , 6.02564, 4.43686,\n",
       "       3.97879, 5.87979, 3.30025, 5.40774, 2.87869, 5.07108, 4.50533,\n",
       "       6.08507])"
      ]
     },
     "execution_count": 19,
     "metadata": {},
     "output_type": "execute_result"
    }
   ],
   "source": [
    "y"
   ]
  },
  {
   "cell_type": "code",
   "execution_count": 20,
   "metadata": {},
   "outputs": [],
   "source": [
    "xn , yn = normalize_data(x, y)"
   ]
  },
  {
   "cell_type": "code",
   "execution_count": 23,
   "metadata": {},
   "outputs": [
    {
     "data": {
      "text/plain": [
       "array([-0.5233151 ,  0.46381907, -1.14839444, -1.0540573 , -0.98402134,\n",
       "       -0.0849036 , -0.4421533 ,  1.65512791, -0.05199109,  0.49306315,\n",
       "        0.50359481,  0.32935312,  0.17431471,  1.08057125, -0.99325269,\n",
       "        1.41742932,  0.60026562, -0.98061987,  0.96523968,  1.02758572,\n",
       "        1.47948257, -0.3527074 ,  1.42096858,  0.23612685, -1.25100707,\n",
       "       -0.65914163,  0.80965876,  1.55322141, -1.00960561, -0.08649669,\n",
       "       -0.55632233,  1.62794193, -0.76240011,  1.15585151, -0.52859385,\n",
       "        0.678069  , -1.1311115 ,  1.30118495, -1.88774615,  0.28696815,\n",
       "        0.37178115, -0.69748789, -0.82300666,  0.53397558, -0.8830707 ,\n",
       "       -0.01507431, -2.41895336, -1.78281708, -0.02929162,  0.97194791])"
      ]
     },
     "execution_count": 23,
     "metadata": {},
     "output_type": "execute_result"
    }
   ],
   "source": [
    "(x - np.mean(x)) / np.std(x)"
   ]
  },
  {
   "cell_type": "markdown",
   "metadata": {},
   "source": [
    "- define a function to normalize the input data points **x** and **y**"
   ]
  },
  {
   "cell_type": "code",
   "execution_count": 16,
   "metadata": {},
   "outputs": [],
   "source": [
    "def normalize_data(x, y):\n",
    "\n",
    "    xn = (x - np.mean(x)) / np.std(x)\n",
    "    yn = (y - np.mean(y)) / np.std(y)\n",
    "\n",
    "    return xn, yn"
   ]
  },
  {
   "cell_type": "markdown",
   "metadata": {},
   "source": [
    "- define a function to compute the co-variance matrix of the data"
   ]
  },
  {
   "cell_type": "code",
   "execution_count": 10,
   "metadata": {},
   "outputs": [],
   "source": [
    "def compute_covariance(x, y):\n",
    "    \n",
    "    X = np.stack((x,y),axis=0).T\n",
    "    covar = np.conv(X)\n",
    "    \n",
    "    return covar"
   ]
  },
  {
   "cell_type": "markdown",
   "metadata": {},
   "source": [
    "- define a function to compute the principal directions from the co-variance matrix"
   ]
  },
  {
   "cell_type": "code",
   "execution_count": 6,
   "metadata": {},
   "outputs": [
    {
     "ename": "SyntaxError",
     "evalue": "invalid syntax (<ipython-input-6-9a7f94908ffa>, line 3)",
     "output_type": "error",
     "traceback": [
      "\u001b[1;36m  File \u001b[1;32m\"<ipython-input-6-9a7f94908ffa>\"\u001b[1;36m, line \u001b[1;32m3\u001b[0m\n\u001b[1;33m    direction = # compute the principal directions from the co-variance matrix #\u001b[0m\n\u001b[1;37m                                                                                ^\u001b[0m\n\u001b[1;31mSyntaxError\u001b[0m\u001b[1;31m:\u001b[0m invalid syntax\n"
     ]
    }
   ],
   "source": [
    "def compute_principal_direction(covariance):\n",
    "\n",
    "    direction = # compute the principal directions from the co-variance matrix #\n",
    "    \n",
    "    return direction"
   ]
  },
  {
   "cell_type": "markdown",
   "metadata": {},
   "source": [
    "- define a function to compute the projection of the data point onto the principal axis"
   ]
  },
  {
   "cell_type": "code",
   "execution_count": 7,
   "metadata": {},
   "outputs": [
    {
     "ename": "SyntaxError",
     "evalue": "invalid syntax (<ipython-input-7-9a12c9065c36>, line 3)",
     "output_type": "error",
     "traceback": [
      "\u001b[1;36m  File \u001b[1;32m\"<ipython-input-7-9a12c9065c36>\"\u001b[1;36m, line \u001b[1;32m3\u001b[0m\n\u001b[1;33m    projection = # compute the projection of point on the axis #\u001b[0m\n\u001b[1;37m                                                                ^\u001b[0m\n\u001b[1;31mSyntaxError\u001b[0m\u001b[1;31m:\u001b[0m invalid syntax\n"
     ]
    }
   ],
   "source": [
    "def compute_projection(point, axis):\n",
    "\n",
    "    projection = # compute the projection of point on the axis #\n",
    "    \n",
    "    return projection"
   ]
  },
  {
   "cell_type": "markdown",
   "metadata": {},
   "source": [
    "- define a function to compute the projection of the data point onto the principal axis"
   ]
  },
  {
   "cell_type": "code",
   "execution_count": 8,
   "metadata": {},
   "outputs": [
    {
     "ename": "SyntaxError",
     "evalue": "invalid syntax (<ipython-input-8-3ad07c343271>, line 3)",
     "output_type": "error",
     "traceback": [
      "\u001b[1;36m  File \u001b[1;32m\"<ipython-input-8-3ad07c343271>\"\u001b[1;36m, line \u001b[1;32m3\u001b[0m\n\u001b[1;33m    distance = # compute the Euclidean distance between point1 and point2 #\u001b[0m\n\u001b[1;37m                                                                           ^\u001b[0m\n\u001b[1;31mSyntaxError\u001b[0m\u001b[1;31m:\u001b[0m invalid syntax\n"
     ]
    }
   ],
   "source": [
    "def compute_distance(point1, point2):\n",
    "\n",
    "    distance = # compute the Euclidean distance between point1 and point2 #\n",
    "    \n",
    "    return distance"
   ]
  }
 ],
 "metadata": {
  "kernelspec": {
   "display_name": "Python 3",
   "language": "python",
   "name": "python3"
  },
  "language_info": {
   "codemirror_mode": {
    "name": "ipython",
    "version": 3
   },
   "file_extension": ".py",
   "mimetype": "text/x-python",
   "name": "python",
   "nbconvert_exporter": "python",
   "pygments_lexer": "ipython3",
   "version": "3.7.4"
  }
 },
 "nbformat": 4,
 "nbformat_minor": 4
}
